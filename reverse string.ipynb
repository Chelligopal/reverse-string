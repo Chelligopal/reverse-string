{
 "cells": [
  {
   "cell_type": "code",
   "execution_count": 2,
   "id": "b38bed87",
   "metadata": {},
   "outputs": [
    {
     "name": "stdout",
     "output_type": "stream",
     "text": [
      "hello:adoyde edyoda\n"
     ]
    }
   ],
   "source": [
    "firstname=(\"edyoda\")\n",
    "lastname=(\"adoyde\")\n",
    "print(\"hello:\" +lastname + \" \" +firstname)"
   ]
  },
  {
   "cell_type": "code",
   "execution_count": 3,
   "id": "162aa588",
   "metadata": {},
   "outputs": [
    {
     "name": "stdout",
     "output_type": "stream",
     "text": [
      "hello:adoyde edyoda\n"
     ]
    }
   ],
   "source": [
    "str1=(\"edyoda\")\n",
    "str2=(\"adoyde\")\n",
    "print(\"hello:\" +str2 + \" \" +str1)"
   ]
  },
  {
   "cell_type": "code",
   "execution_count": null,
   "id": "80cb2a49",
   "metadata": {},
   "outputs": [],
   "source": []
  }
 ],
 "metadata": {
  "kernelspec": {
   "display_name": "Python 3 (ipykernel)",
   "language": "python",
   "name": "python3"
  },
  "language_info": {
   "codemirror_mode": {
    "name": "ipython",
    "version": 3
   },
   "file_extension": ".py",
   "mimetype": "text/x-python",
   "name": "python",
   "nbconvert_exporter": "python",
   "pygments_lexer": "ipython3",
   "version": "3.10.1"
  }
 },
 "nbformat": 4,
 "nbformat_minor": 5
}
